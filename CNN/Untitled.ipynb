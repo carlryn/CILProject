{
 "cells": [
  {
   "cell_type": "code",
   "execution_count": 6,
   "metadata": {
    "collapsed": false
   },
   "outputs": [
    {
     "name": "stdout",
     "output_type": "stream",
     "text": [
      "[ 88.66068507  87.67575921  77.93427463]\n"
     ]
    }
   ],
   "source": [
    "import math\n",
    "import numpy as np\n",
    "import tensorflow as tf\n",
    "from glob import glob\n",
    "import os\n",
    "from model import vgg16\n",
    "import utils\n",
    "from skimage.io import imread\n",
    "data = glob(os.path.join( \"aerialOrg\",\"train\",\"*.jpg\"))\n",
    "mean = np.zeros((3))\n",
    "for img_path in data:\n",
    "    mean += np.mean(imread(img_path),axis=(0,1))\n",
    "mean = mean/len(data)    \n",
    "print mean"
   ]
  }
 ],
 "metadata": {
  "kernelspec": {
   "display_name": "Python 2",
   "language": "python",
   "name": "python2"
  },
  "language_info": {
   "codemirror_mode": {
    "name": "ipython",
    "version": 2
   },
   "file_extension": ".py",
   "mimetype": "text/x-python",
   "name": "python",
   "nbconvert_exporter": "python",
   "pygments_lexer": "ipython2",
   "version": "2.7.13"
  }
 },
 "nbformat": 4,
 "nbformat_minor": 2
}
